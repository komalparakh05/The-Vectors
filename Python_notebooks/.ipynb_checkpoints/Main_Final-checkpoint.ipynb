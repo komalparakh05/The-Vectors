{
 "cells": [
  {
   "cell_type": "code",
   "execution_count": 1,
   "id": "eb965408",
   "metadata": {},
   "outputs": [],
   "source": [
    "import sys\n",
    "sys.path.append(\"..\")"
   ]
  },
  {
   "cell_type": "code",
   "execution_count": 2,
   "id": "413c55f4",
   "metadata": {},
   "outputs": [],
   "source": [
    "%load_ext autoreload\n",
    "%autoreload 2\n",
    "import pandas as pd\n",
    "from app.train import build_model\n",
    "from app.inference import make_predictions\n",
    "import warnings\n",
    "warnings.filterwarnings('ignore')"
   ]
  },
  {
   "cell_type": "code",
   "execution_count": 3,
   "id": "3dfcf729",
   "metadata": {},
   "outputs": [
    {
     "name": "stdout",
     "output_type": "stream",
     "text": [
      "Evaluation for train\n",
      "Lasso Score: 0.8166184822863083\n",
      "RMSLE Error: 0.21\n",
      "Evaluation on local test\n",
      "Lasso Score: 0.9996058785339543\n",
      "RMSLE Error: 0.19\n",
      "1\n"
     ]
    }
   ],
   "source": [
    "import pandas as pd\n",
    "training_data_df = pd.read_csv(r'..\\data\\house-prices\\train.csv')\n",
    "model_performance_dict = build_model(training_data_df)\n",
    "print(model_performance_dict)"
   ]
  },
  {
   "cell_type": "code",
   "execution_count": 4,
   "id": "55412111",
   "metadata": {},
   "outputs": [
    {
     "name": "stdout",
     "output_type": "stream",
     "text": [
      "[108143.75427322 181103.6278845  165911.00715328 ... 145284.20092695\n",
      "  97747.5821534  216098.20899529]\n"
     ]
    }
   ],
   "source": [
    "user_data_df = pd.read_csv(r'..\\data\\house-prices\\test.csv')\n",
    "predictions = make_predictions(user_data_df)\n",
    "print(predictions)"
   ]
  }
 ],
 "metadata": {
  "kernelspec": {
   "display_name": "Python 3 (ipykernel)",
   "language": "python",
   "name": "python3"
  },
  "language_info": {
   "codemirror_mode": {
    "name": "ipython",
    "version": 3
   },
   "file_extension": ".py",
   "mimetype": "text/x-python",
   "name": "python",
   "nbconvert_exporter": "python",
   "pygments_lexer": "ipython3",
   "version": "3.9.12"
  }
 },
 "nbformat": 4,
 "nbformat_minor": 5
}
