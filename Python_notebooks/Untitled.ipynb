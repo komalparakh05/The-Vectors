{
 "cells": [
  {
   "cell_type": "code",
   "execution_count": null,
   "id": "d4b80d47",
   "metadata": {},
   "outputs": [],
   "source": []
  },
  {
   "cell_type": "code",
   "execution_count": 1,
   "id": "48d99787",
   "metadata": {},
   "outputs": [
    {
     "ename": "NameError",
     "evalue": "name 'train' is not defined",
     "output_type": "error",
     "traceback": [
      "\u001b[1;31m---------------------------------------------------------------------------\u001b[0m",
      "\u001b[1;31mNameError\u001b[0m                                 Traceback (most recent call last)",
      "Input \u001b[1;32mIn [1]\u001b[0m, in \u001b[0;36m<cell line: 14>\u001b[1;34m()\u001b[0m\n\u001b[0;32m     10\u001b[0m \u001b[38;5;28;01mfrom\u001b[39;00m \u001b[38;5;21;01msklearn\u001b[39;00m\u001b[38;5;21;01m.\u001b[39;00m\u001b[38;5;21;01mlinear_model\u001b[39;00m \u001b[38;5;28;01mimport\u001b[39;00m LinearRegression\n\u001b[0;32m     12\u001b[0m \u001b[38;5;66;03m# dataframe = encoded_dataframe (from preprocess.py)\u001b[39;00m\n\u001b[1;32m---> 14\u001b[0m categorical_columns \u001b[38;5;241m=\u001b[39m \u001b[38;5;28mlist\u001b[39m(\u001b[43mtrain\u001b[49m\u001b[38;5;241m.\u001b[39mselect_dtypes(\u001b[38;5;28mobject\u001b[39m)\u001b[38;5;241m.\u001b[39mcolumns)\n\u001b[0;32m     15\u001b[0m categorical_columns \u001b[38;5;241m=\u001b[39m \u001b[38;5;28mlist\u001b[39m(loan_train\u001b[38;5;241m.\u001b[39mselect_dtypes(\u001b[38;5;28mobject\u001b[39m)\u001b[38;5;241m.\u001b[39mcolumns)\n\u001b[0;32m     16\u001b[0m \u001b[38;5;28;01mdef\u001b[39;00m \u001b[38;5;21mget_categorical_column_names\u001b[39m(dataframe: pd\u001b[38;5;241m.\u001b[39mDataFrame) \u001b[38;5;241m-\u001b[39m\u001b[38;5;241m>\u001b[39m List[\u001b[38;5;28mstr\u001b[39m]:\n",
      "\u001b[1;31mNameError\u001b[0m: name 'train' is not defined"
     ]
    }
   ],
   "source": [
    "#!/usr/bin/env python\n",
    "# coding: utf-8\n",
    "\n",
    "# In[ ]:\n",
    "\n",
    "\n",
    "import pandas as pd\n",
    "from typing import List\n",
    "from sklearn.preprocessing import OneHotEncoder\n",
    "from sklearn.linear_model import LinearRegression\n",
    "\n",
    "# dataframe = encoded_dataframe (from preprocess.py)\n",
    "\n",
    "categorical_columns = list(train.select_dtypes(object).columns)\n",
    "categorical_columns = list(loan_train.select_dtypes(object).columns)\n",
    "def get_categorical_column_names(dataframe: pd.DataFrame) -> List[str]:\n",
    "    categorical_columns = list(dataframe.select_dtypes(include='object').columns)\n",
    "    return categorical_columns\n",
    "\n",
    "def get_one_encoder(dataframe: pd.DataFrame) -> OneHotEncoder:\n",
    "    categorical_columns = get_categorical_column_names(dataframe)\n",
    "    one_hot_encoder = OneHotEncoder()\n",
    "    one_hot_encoder.fit(dataframe[categorical_columns])\n",
    "    return one_hot_encoder\n",
    "\n",
    "def encode_categorical_data(dataframe: pd.DataFrame, one_hot_encoder: OneHotEncoder) -> pd.DataFrame:\n",
    "    categorical_columns = get_categorical_column_names(dataframe)\n",
    "    encoded_categorical_df = one_hot_encoder.transform(dataframe[categorical_columns])\n",
    "    return encoded_categorical_df\n",
    "\n",
    "\n",
    "def get_lg_model(dataframe: pd.DataFrame):\n",
    "    #one_hot_encoder = get_one_encoder(dataframe)\n",
    "    #encoded_train_final = encode_categorical_data(dataframe)\n",
    "\n",
    "    x_train = encoded_train_final[[col for col in encoded_train_final if col not in ['loan_Status']]]\n",
    "    y_train = encoded_train_final['Loan_status']\n",
    "    LR = LogisticRegression()\n",
    "    LR.fit(X_train, y_train)\n",
    "    lg = LR().fit(x_train,y_train)\n",
    "    return encoded_train_final, x_train, y_train, lg\n",
    "    \n",
    "\n",
    "\n",
    "\n"
   ]
  },
  {
   "cell_type": "code",
   "execution_count": null,
   "id": "5b3f7254",
   "metadata": {},
   "outputs": [],
   "source": []
  }
 ],
 "metadata": {
  "kernelspec": {
   "display_name": "Python 3 (ipykernel)",
   "language": "python",
   "name": "python3"
  },
  "language_info": {
   "codemirror_mode": {
    "name": "ipython",
    "version": 3
   },
   "file_extension": ".py",
   "mimetype": "text/x-python",
   "name": "python",
   "nbconvert_exporter": "python",
   "pygments_lexer": "ipython3",
   "version": "3.9.7"
  }
 },
 "nbformat": 4,
 "nbformat_minor": 5
}
