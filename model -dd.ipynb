{
 "cells": [
  {
   "cell_type": "code",
   "execution_count": 2,
   "id": "cfec9d67",
   "metadata": {},
   "outputs": [],
   "source": [
    "import numpy as np\n",
    "import pandas as pd\n",
    "from sklearn.metrics import mean_squared_log_error\n",
    "from sklearn.model_selection import train_test_split\n"
   ]
  },
  {
   "cell_type": "code",
   "execution_count": null,
   "id": "d984ef44",
   "metadata": {},
   "outputs": [],
   "source": [
    "\n",
    "import pandas as pd\n",
    "from typing import List\n",
    "from sklearn.preprocessing import OneHotEncoder\n",
    "from sklearn.linear_model import LinearRegression\n",
    "\n",
    "# dataframe = encoded_dataframe (from preprocess.py)\n",
    "\n",
    "categorical_columns = list(loan_train.select_dtypes(object).columns)\n",
    "def get_categorical_column_names(dataframe: pd.DataFrame) -> List[str]:\n",
    "    categorical_columns = list(dataframe.select_dtypes(include='object').columns)\n",
    "    return categorical_columns\n",
    "\n",
    "def get_one_encoder(dataframe: pd.DataFrame) -> OneHotEncoder:\n",
    "    categorical_columns = get_categorical_column_names(dataframe)\n",
    "    one_hot_encoder = OneHotEncoder()\n",
    "    one_hot_encoder.fit(dataframe[categorical_columns])\n",
    "    return one_hot_encoder\n",
    "\n",
    "def encode_categorical_data(dataframe: pd.DataFrame, one_hot_encoder: OneHotEncoder) -> pd.DataFrame:\n",
    "    categorical_columns = get_categorical_column_names(dataframe)\n",
    "    encoded_categorical_df = one_hot_encoder.transform(dataframe[categorical_columns])\n",
    "    return encoded_categorical_df\n",
    "\n",
    "\n",
    "def get_lg_model(dataframe: pd.DataFrame):\n",
    "    #one_hot_encoder = get_one_encoder(dataframe)\n",
    "    #encoded_train_final = encode_categorical_data(dataframe)\n",
    "\n",
    "    x_train = encoded_train_final[[col for col in encoded_train_final if col not in ['loan_Status']]]\n",
    "    y_train = encoded_train_final['Loan_status']\n",
    "    LR = LogisticRegression()\n",
    "    LR.fit(X_train, y_train)\n",
    "    lg = LR().fit(x_train,y_train)\n",
    "    return encoded_train_final, x_train, y_train, lg\n",
    "    \n",
    "\n",
    "\n",
    "\n"
   ]
  }
 ],
 "metadata": {
  "kernelspec": {
   "display_name": "Python 3 (ipykernel)",
   "language": "python",
   "name": "python3"
  },
  "language_info": {
   "codemirror_mode": {
    "name": "ipython",
    "version": 3
   },
   "file_extension": ".py",
   "mimetype": "text/x-python",
   "name": "python",
   "nbconvert_exporter": "python",
   "pygments_lexer": "ipython3",
   "version": "3.9.7"
  }
 },
 "nbformat": 4,
 "nbformat_minor": 5
}
